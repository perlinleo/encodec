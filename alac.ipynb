{
 "cells": [
  {
   "cell_type": "code",
   "execution_count": 1,
   "metadata": {},
   "outputs": [
    {
     "ename": "CouldntEncodeError",
     "evalue": "Encoding failed. ffmpeg/avlib returned error code: 1\n\nCommand:['ffmpeg', '-y', '-f', 'wav', '-i', '/var/folders/qh/_d10460j4bdb34vp1wr_q1d40000gn/T/tmpw81dry5h', '-f', 'alac', '/var/folders/qh/_d10460j4bdb34vp1wr_q1d40000gn/T/tmp8r_y_390']\n\nOutput from ffmpeg/avlib:\n\nffmpeg version 6.0 Copyright (c) 2000-2023 the FFmpeg developers\n  built with Apple clang version 15.0.0 (clang-1500.0.40.1)\n  configuration: --prefix=/opt/homebrew/Cellar/ffmpeg/6.0_2 --enable-shared --enable-pthreads --enable-version3 --cc=clang --host-cflags= --host-ldflags='-Wl,-ld_classic' --enable-ffplay --enable-gnutls --enable-gpl --enable-libaom --enable-libaribb24 --enable-libbluray --enable-libdav1d --enable-libjxl --enable-libmp3lame --enable-libopus --enable-librav1e --enable-librist --enable-librubberband --enable-libsnappy --enable-libsrt --enable-libsvtav1 --enable-libtesseract --enable-libtheora --enable-libvidstab --enable-libvmaf --enable-libvorbis --enable-libvpx --enable-libwebp --enable-libx264 --enable-libx265 --enable-libxml2 --enable-libxvid --enable-lzma --enable-libfontconfig --enable-libfreetype --enable-frei0r --enable-libass --enable-libopencore-amrnb --enable-libopencore-amrwb --enable-libopenjpeg --enable-libspeex --enable-libsoxr --enable-libzmq --enable-libzimg --disable-libjack --disable-indev=jack --enable-videotoolbox --enable-audiotoolbox --enable-neon\n  libavutil      58.  2.100 / 58.  2.100\n  libavcodec     60.  3.100 / 60.  3.100\n  libavformat    60.  3.100 / 60.  3.100\n  libavdevice    60.  1.100 / 60.  1.100\n  libavfilter     9.  3.100 /  9.  3.100\n  libswscale      7.  1.100 /  7.  1.100\n  libswresample   4. 10.100 /  4. 10.100\n  libpostproc    57.  1.100 / 57.  1.100\nGuessed Channel Layout for Input Stream #0.0 : mono\nInput #0, wav, from '/var/folders/qh/_d10460j4bdb34vp1wr_q1d40000gn/T/tmpw81dry5h':\n  Duration: 00:00:07.00, bitrate: 384 kb/s\n  Stream #0:0: Audio: pcm_s16le ([1][0][0][0] / 0x0001), 24000 Hz, 1 channels, s16, 384 kb/s\n[NULL @ 0x140e2ec60] Requested output format 'alac' is not a suitable output format\n/var/folders/qh/_d10460j4bdb34vp1wr_q1d40000gn/T/tmp8r_y_390: Invalid argument\n",
     "output_type": "error",
     "traceback": [
      "\u001b[0;31m---------------------------------------------------------------------------\u001b[0m",
      "\u001b[0;31mCouldntEncodeError\u001b[0m                        Traceback (most recent call last)",
      "Cell \u001b[0;32mIn[1], line 24\u001b[0m\n\u001b[1;32m     21\u001b[0m alac_path \u001b[38;5;241m=\u001b[39m os\u001b[38;5;241m.\u001b[39mpath\u001b[38;5;241m.\u001b[39mjoin(output_folder, alac_file)\n\u001b[1;32m     23\u001b[0m \u001b[38;5;66;03m# Export the audio to ALAC format\u001b[39;00m\n\u001b[0;32m---> 24\u001b[0m \u001b[43maudio\u001b[49m\u001b[38;5;241;43m.\u001b[39;49m\u001b[43mexport\u001b[49m\u001b[43m(\u001b[49m\u001b[43malac_path\u001b[49m\u001b[43m,\u001b[49m\u001b[43m \u001b[49m\u001b[38;5;28;43mformat\u001b[39;49m\u001b[38;5;241;43m=\u001b[39;49m\u001b[38;5;124;43m'\u001b[39;49m\u001b[38;5;124;43malac\u001b[39;49m\u001b[38;5;124;43m'\u001b[39;49m\u001b[43m)\u001b[49m\n\u001b[1;32m     26\u001b[0m \u001b[38;5;28mprint\u001b[39m(\u001b[38;5;124mf\u001b[39m\u001b[38;5;124m\"\u001b[39m\u001b[38;5;124mConverted \u001b[39m\u001b[38;5;132;01m{\u001b[39;00mwav_file\u001b[38;5;132;01m}\u001b[39;00m\u001b[38;5;124m to ALAC format: \u001b[39m\u001b[38;5;132;01m{\u001b[39;00malac_file\u001b[38;5;132;01m}\u001b[39;00m\u001b[38;5;124m\"\u001b[39m)\n",
      "File \u001b[0;32m/usr/local/anaconda3/lib/python3.10/site-packages/pydub/audio_segment.py:970\u001b[0m, in \u001b[0;36mAudioSegment.export\u001b[0;34m(self, out_f, format, codec, bitrate, parameters, tags, id3v2_version, cover)\u001b[0m\n\u001b[1;32m    967\u001b[0m log_subprocess_output(p_err)\n\u001b[1;32m    969\u001b[0m \u001b[38;5;28;01mif\u001b[39;00m p\u001b[38;5;241m.\u001b[39mreturncode \u001b[38;5;241m!=\u001b[39m \u001b[38;5;241m0\u001b[39m:\n\u001b[0;32m--> 970\u001b[0m     \u001b[38;5;28;01mraise\u001b[39;00m CouldntEncodeError(\n\u001b[1;32m    971\u001b[0m         \u001b[38;5;124m\"\u001b[39m\u001b[38;5;124mEncoding failed. ffmpeg/avlib returned error code: \u001b[39m\u001b[38;5;132;01m{0}\u001b[39;00m\u001b[38;5;130;01m\\n\u001b[39;00m\u001b[38;5;130;01m\\n\u001b[39;00m\u001b[38;5;124mCommand:\u001b[39m\u001b[38;5;132;01m{1}\u001b[39;00m\u001b[38;5;130;01m\\n\u001b[39;00m\u001b[38;5;130;01m\\n\u001b[39;00m\u001b[38;5;124mOutput from ffmpeg/avlib:\u001b[39m\u001b[38;5;130;01m\\n\u001b[39;00m\u001b[38;5;130;01m\\n\u001b[39;00m\u001b[38;5;132;01m{2}\u001b[39;00m\u001b[38;5;124m\"\u001b[39m\u001b[38;5;241m.\u001b[39mformat(\n\u001b[1;32m    972\u001b[0m             p\u001b[38;5;241m.\u001b[39mreturncode, conversion_command, p_err\u001b[38;5;241m.\u001b[39mdecode(errors\u001b[38;5;241m=\u001b[39m\u001b[38;5;124m'\u001b[39m\u001b[38;5;124mignore\u001b[39m\u001b[38;5;124m'\u001b[39m) ))\n\u001b[1;32m    974\u001b[0m output\u001b[38;5;241m.\u001b[39mseek(\u001b[38;5;241m0\u001b[39m)\n\u001b[1;32m    975\u001b[0m out_f\u001b[38;5;241m.\u001b[39mwrite(output\u001b[38;5;241m.\u001b[39mread())\n",
      "\u001b[0;31mCouldntEncodeError\u001b[0m: Encoding failed. ffmpeg/avlib returned error code: 1\n\nCommand:['ffmpeg', '-y', '-f', 'wav', '-i', '/var/folders/qh/_d10460j4bdb34vp1wr_q1d40000gn/T/tmpw81dry5h', '-f', 'alac', '/var/folders/qh/_d10460j4bdb34vp1wr_q1d40000gn/T/tmp8r_y_390']\n\nOutput from ffmpeg/avlib:\n\nffmpeg version 6.0 Copyright (c) 2000-2023 the FFmpeg developers\n  built with Apple clang version 15.0.0 (clang-1500.0.40.1)\n  configuration: --prefix=/opt/homebrew/Cellar/ffmpeg/6.0_2 --enable-shared --enable-pthreads --enable-version3 --cc=clang --host-cflags= --host-ldflags='-Wl,-ld_classic' --enable-ffplay --enable-gnutls --enable-gpl --enable-libaom --enable-libaribb24 --enable-libbluray --enable-libdav1d --enable-libjxl --enable-libmp3lame --enable-libopus --enable-librav1e --enable-librist --enable-librubberband --enable-libsnappy --enable-libsrt --enable-libsvtav1 --enable-libtesseract --enable-libtheora --enable-libvidstab --enable-libvmaf --enable-libvorbis --enable-libvpx --enable-libwebp --enable-libx264 --enable-libx265 --enable-libxml2 --enable-libxvid --enable-lzma --enable-libfontconfig --enable-libfreetype --enable-frei0r --enable-libass --enable-libopencore-amrnb --enable-libopencore-amrwb --enable-libopenjpeg --enable-libspeex --enable-libsoxr --enable-libzmq --enable-libzimg --disable-libjack --disable-indev=jack --enable-videotoolbox --enable-audiotoolbox --enable-neon\n  libavutil      58.  2.100 / 58.  2.100\n  libavcodec     60.  3.100 / 60.  3.100\n  libavformat    60.  3.100 / 60.  3.100\n  libavdevice    60.  1.100 / 60.  1.100\n  libavfilter     9.  3.100 /  9.  3.100\n  libswscale      7.  1.100 /  7.  1.100\n  libswresample   4. 10.100 /  4. 10.100\n  libpostproc    57.  1.100 / 57.  1.100\nGuessed Channel Layout for Input Stream #0.0 : mono\nInput #0, wav, from '/var/folders/qh/_d10460j4bdb34vp1wr_q1d40000gn/T/tmpw81dry5h':\n  Duration: 00:00:07.00, bitrate: 384 kb/s\n  Stream #0:0: Audio: pcm_s16le ([1][0][0][0] / 0x0001), 24000 Hz, 1 channels, s16, 384 kb/s\n[NULL @ 0x140e2ec60] Requested output format 'alac' is not a suitable output format\n/var/folders/qh/_d10460j4bdb34vp1wr_q1d40000gn/T/tmp8r_y_390: Invalid argument\n"
     ]
    }
   ],
   "source": [
    "from pydub import AudioSegment\n",
    "import os\n",
    "\n",
    "# Create the 'alac' folder if it doesn't exist\n",
    "output_folder = 'alac'\n",
    "os.makedirs(output_folder, exist_ok=True)\n",
    "\n",
    "# Path to the folder containing WAV files\n",
    "input_folder = 'test'\n",
    "\n",
    "# Get a list of WAV files in the 'test' folder\n",
    "wav_files = [f for f in os.listdir(input_folder) if f.endswith('.wav')]\n",
    "\n",
    "for wav_file in wav_files:\n",
    "    # Load the WAV file\n",
    "    wav_path = os.path.join(input_folder, wav_file)\n",
    "    audio = AudioSegment.from_wav(wav_path)\n",
    "\n",
    "    # Define the output ALAC file path\n",
    "    alac_file = os.path.splitext(wav_file)[0] + '.m4a'\n",
    "    alac_path = os.path.join(output_folder, alac_file)\n",
    "\n",
    "    # Export the audio to ALAC format\n",
    "    audio.export(alac_path, format='alac')\n",
    "\n",
    "    print(f\"Converted {wav_file} to ALAC format: {alac_file}\")\n"
   ]
  },
  {
   "cell_type": "code",
   "execution_count": 2,
   "metadata": {},
   "outputs": [
    {
     "ename": "CouldntEncodeError",
     "evalue": "Encoding failed. ffmpeg/avlib returned error code: 1\n\nCommand:['ffmpeg', '-y', '-f', 'wav', '-i', '/var/folders/qh/_d10460j4bdb34vp1wr_q1d40000gn/T/tmpo01w_vbs', '-f', 'm4a', '/var/folders/qh/_d10460j4bdb34vp1wr_q1d40000gn/T/tmpmg5nao56']\n\nOutput from ffmpeg/avlib:\n\nffmpeg version 6.0 Copyright (c) 2000-2023 the FFmpeg developers\n  built with Apple clang version 15.0.0 (clang-1500.0.40.1)\n  configuration: --prefix=/opt/homebrew/Cellar/ffmpeg/6.0_2 --enable-shared --enable-pthreads --enable-version3 --cc=clang --host-cflags= --host-ldflags='-Wl,-ld_classic' --enable-ffplay --enable-gnutls --enable-gpl --enable-libaom --enable-libaribb24 --enable-libbluray --enable-libdav1d --enable-libjxl --enable-libmp3lame --enable-libopus --enable-librav1e --enable-librist --enable-librubberband --enable-libsnappy --enable-libsrt --enable-libsvtav1 --enable-libtesseract --enable-libtheora --enable-libvidstab --enable-libvmaf --enable-libvorbis --enable-libvpx --enable-libwebp --enable-libx264 --enable-libx265 --enable-libxml2 --enable-libxvid --enable-lzma --enable-libfontconfig --enable-libfreetype --enable-frei0r --enable-libass --enable-libopencore-amrnb --enable-libopencore-amrwb --enable-libopenjpeg --enable-libspeex --enable-libsoxr --enable-libzmq --enable-libzimg --disable-libjack --disable-indev=jack --enable-videotoolbox --enable-audiotoolbox --enable-neon\n  libavutil      58.  2.100 / 58.  2.100\n  libavcodec     60.  3.100 / 60.  3.100\n  libavformat    60.  3.100 / 60.  3.100\n  libavdevice    60.  1.100 / 60.  1.100\n  libavfilter     9.  3.100 /  9.  3.100\n  libswscale      7.  1.100 /  7.  1.100\n  libswresample   4. 10.100 /  4. 10.100\n  libpostproc    57.  1.100 / 57.  1.100\nGuessed Channel Layout for Input Stream #0.0 : mono\nInput #0, wav, from '/var/folders/qh/_d10460j4bdb34vp1wr_q1d40000gn/T/tmpo01w_vbs':\n  Duration: 00:00:07.00, bitrate: 384 kb/s\n  Stream #0:0: Audio: pcm_s16le ([1][0][0][0] / 0x0001), 24000 Hz, 1 channels, s16, 384 kb/s\n[NULL @ 0x145806f90] Requested output format 'm4a' is not a suitable output format\n/var/folders/qh/_d10460j4bdb34vp1wr_q1d40000gn/T/tmpmg5nao56: Invalid argument\n",
     "output_type": "error",
     "traceback": [
      "\u001b[0;31m---------------------------------------------------------------------------\u001b[0m",
      "\u001b[0;31mCouldntEncodeError\u001b[0m                        Traceback (most recent call last)",
      "Cell \u001b[0;32mIn[2], line 24\u001b[0m\n\u001b[1;32m     21\u001b[0m alac_path \u001b[38;5;241m=\u001b[39m os\u001b[38;5;241m.\u001b[39mpath\u001b[38;5;241m.\u001b[39mjoin(output_folder, alac_file)\n\u001b[1;32m     23\u001b[0m \u001b[38;5;66;03m# Export the audio to ALAC format (MPEG-4 container)\u001b[39;00m\n\u001b[0;32m---> 24\u001b[0m \u001b[43maudio\u001b[49m\u001b[38;5;241;43m.\u001b[39;49m\u001b[43mexport\u001b[49m\u001b[43m(\u001b[49m\u001b[43malac_path\u001b[49m\u001b[43m,\u001b[49m\u001b[43m \u001b[49m\u001b[38;5;28;43mformat\u001b[39;49m\u001b[38;5;241;43m=\u001b[39;49m\u001b[38;5;124;43m'\u001b[39;49m\u001b[38;5;124;43mm4a\u001b[39;49m\u001b[38;5;124;43m'\u001b[39;49m\u001b[43m)\u001b[49m\n\u001b[1;32m     26\u001b[0m \u001b[38;5;28mprint\u001b[39m(\u001b[38;5;124mf\u001b[39m\u001b[38;5;124m\"\u001b[39m\u001b[38;5;124mConverted \u001b[39m\u001b[38;5;132;01m{\u001b[39;00mwav_file\u001b[38;5;132;01m}\u001b[39;00m\u001b[38;5;124m to ALAC format: \u001b[39m\u001b[38;5;132;01m{\u001b[39;00malac_file\u001b[38;5;132;01m}\u001b[39;00m\u001b[38;5;124m\"\u001b[39m)\n",
      "File \u001b[0;32m/usr/local/anaconda3/lib/python3.10/site-packages/pydub/audio_segment.py:970\u001b[0m, in \u001b[0;36mAudioSegment.export\u001b[0;34m(self, out_f, format, codec, bitrate, parameters, tags, id3v2_version, cover)\u001b[0m\n\u001b[1;32m    967\u001b[0m log_subprocess_output(p_err)\n\u001b[1;32m    969\u001b[0m \u001b[38;5;28;01mif\u001b[39;00m p\u001b[38;5;241m.\u001b[39mreturncode \u001b[38;5;241m!=\u001b[39m \u001b[38;5;241m0\u001b[39m:\n\u001b[0;32m--> 970\u001b[0m     \u001b[38;5;28;01mraise\u001b[39;00m CouldntEncodeError(\n\u001b[1;32m    971\u001b[0m         \u001b[38;5;124m\"\u001b[39m\u001b[38;5;124mEncoding failed. ffmpeg/avlib returned error code: \u001b[39m\u001b[38;5;132;01m{0}\u001b[39;00m\u001b[38;5;130;01m\\n\u001b[39;00m\u001b[38;5;130;01m\\n\u001b[39;00m\u001b[38;5;124mCommand:\u001b[39m\u001b[38;5;132;01m{1}\u001b[39;00m\u001b[38;5;130;01m\\n\u001b[39;00m\u001b[38;5;130;01m\\n\u001b[39;00m\u001b[38;5;124mOutput from ffmpeg/avlib:\u001b[39m\u001b[38;5;130;01m\\n\u001b[39;00m\u001b[38;5;130;01m\\n\u001b[39;00m\u001b[38;5;132;01m{2}\u001b[39;00m\u001b[38;5;124m\"\u001b[39m\u001b[38;5;241m.\u001b[39mformat(\n\u001b[1;32m    972\u001b[0m             p\u001b[38;5;241m.\u001b[39mreturncode, conversion_command, p_err\u001b[38;5;241m.\u001b[39mdecode(errors\u001b[38;5;241m=\u001b[39m\u001b[38;5;124m'\u001b[39m\u001b[38;5;124mignore\u001b[39m\u001b[38;5;124m'\u001b[39m) ))\n\u001b[1;32m    974\u001b[0m output\u001b[38;5;241m.\u001b[39mseek(\u001b[38;5;241m0\u001b[39m)\n\u001b[1;32m    975\u001b[0m out_f\u001b[38;5;241m.\u001b[39mwrite(output\u001b[38;5;241m.\u001b[39mread())\n",
      "\u001b[0;31mCouldntEncodeError\u001b[0m: Encoding failed. ffmpeg/avlib returned error code: 1\n\nCommand:['ffmpeg', '-y', '-f', 'wav', '-i', '/var/folders/qh/_d10460j4bdb34vp1wr_q1d40000gn/T/tmpo01w_vbs', '-f', 'm4a', '/var/folders/qh/_d10460j4bdb34vp1wr_q1d40000gn/T/tmpmg5nao56']\n\nOutput from ffmpeg/avlib:\n\nffmpeg version 6.0 Copyright (c) 2000-2023 the FFmpeg developers\n  built with Apple clang version 15.0.0 (clang-1500.0.40.1)\n  configuration: --prefix=/opt/homebrew/Cellar/ffmpeg/6.0_2 --enable-shared --enable-pthreads --enable-version3 --cc=clang --host-cflags= --host-ldflags='-Wl,-ld_classic' --enable-ffplay --enable-gnutls --enable-gpl --enable-libaom --enable-libaribb24 --enable-libbluray --enable-libdav1d --enable-libjxl --enable-libmp3lame --enable-libopus --enable-librav1e --enable-librist --enable-librubberband --enable-libsnappy --enable-libsrt --enable-libsvtav1 --enable-libtesseract --enable-libtheora --enable-libvidstab --enable-libvmaf --enable-libvorbis --enable-libvpx --enable-libwebp --enable-libx264 --enable-libx265 --enable-libxml2 --enable-libxvid --enable-lzma --enable-libfontconfig --enable-libfreetype --enable-frei0r --enable-libass --enable-libopencore-amrnb --enable-libopencore-amrwb --enable-libopenjpeg --enable-libspeex --enable-libsoxr --enable-libzmq --enable-libzimg --disable-libjack --disable-indev=jack --enable-videotoolbox --enable-audiotoolbox --enable-neon\n  libavutil      58.  2.100 / 58.  2.100\n  libavcodec     60.  3.100 / 60.  3.100\n  libavformat    60.  3.100 / 60.  3.100\n  libavdevice    60.  1.100 / 60.  1.100\n  libavfilter     9.  3.100 /  9.  3.100\n  libswscale      7.  1.100 /  7.  1.100\n  libswresample   4. 10.100 /  4. 10.100\n  libpostproc    57.  1.100 / 57.  1.100\nGuessed Channel Layout for Input Stream #0.0 : mono\nInput #0, wav, from '/var/folders/qh/_d10460j4bdb34vp1wr_q1d40000gn/T/tmpo01w_vbs':\n  Duration: 00:00:07.00, bitrate: 384 kb/s\n  Stream #0:0: Audio: pcm_s16le ([1][0][0][0] / 0x0001), 24000 Hz, 1 channels, s16, 384 kb/s\n[NULL @ 0x145806f90] Requested output format 'm4a' is not a suitable output format\n/var/folders/qh/_d10460j4bdb34vp1wr_q1d40000gn/T/tmpmg5nao56: Invalid argument\n"
     ]
    }
   ],
   "source": [
    "from pydub import AudioSegment\n",
    "import os\n",
    "\n",
    "# Create the 'alac' folder if it doesn't exist\n",
    "output_folder = 'alac'\n",
    "os.makedirs(output_folder, exist_ok=True)\n",
    "\n",
    "# Path to the folder containing WAV files\n",
    "input_folder = 'test'\n",
    "\n",
    "# Get a list of WAV files in the 'test' folder\n",
    "wav_files = [f for f in os.listdir(input_folder) if f.endswith('.wav')]\n",
    "\n",
    "for wav_file in wav_files:\n",
    "    # Load the WAV file\n",
    "    wav_path = os.path.join(input_folder, wav_file)\n",
    "    audio = AudioSegment.from_wav(wav_path)\n",
    "\n",
    "    # Define the output ALAC file path\n",
    "    alac_file = os.path.splitext(wav_file)[0] + '.m4a'\n",
    "    alac_path = os.path.join(output_folder, alac_file)\n",
    "\n",
    "    # Export the audio to ALAC format (MPEG-4 container)\n",
    "    audio.export(alac_path, format='m4a')\n",
    "\n",
    "    print(f\"Converted {wav_file} to ALAC format: {alac_file}\")\n"
   ]
  },
  {
   "cell_type": "code",
   "execution_count": 3,
   "metadata": {},
   "outputs": [
    {
     "name": "stdout",
     "output_type": "stream",
     "text": [
      "Converted voice_german_pure_cut_24kHz.wav to MP3 format: voice_german_pure_cut_24kHz.mp3\n",
      "Converted rain_traffic_sound_cut_48khz.wav to MP3 format: rain_traffic_sound_cut_48khz.mp3\n",
      "Converted ar_speak_radio_quran_long_8khz.wav to MP3 format: ar_speak_radio_quran_long_8khz.mp3\n",
      "Converted song_hip_hop_cut_48khz.wav to MP3 format: song_hip_hop_cut_48khz.mp3\n",
      "Converted es_speak_noize_cut_48khz.wav to MP3 format: es_speak_noize_cut_48khz.mp3\n",
      "Converted voice_german_pure_cut_48khz.wav to MP3 format: voice_german_pure_cut_48khz.mp3\n",
      "Converted es_speak_noize_cut_24kHz.wav to MP3 format: es_speak_noize_cut_24kHz.mp3\n",
      "Converted rain_traffic_sound_cut_24kHz.wav to MP3 format: rain_traffic_sound_cut_24kHz.mp3\n",
      "Converted song_hip_hop_cut_24kHz.wav to MP3 format: song_hip_hop_cut_24kHz.mp3\n"
     ]
    }
   ],
   "source": [
    "from pydub import AudioSegment\n",
    "import os\n",
    "\n",
    "# Create the 'mp3' folder if it doesn't exist\n",
    "output_folder = 'mp3'\n",
    "os.makedirs(output_folder, exist_ok=True)\n",
    "\n",
    "# Path to the folder containing WAV files\n",
    "input_folder = 'test'\n",
    "\n",
    "# Get a list of WAV files in the 'test' folder\n",
    "wav_files = [f for f in os.listdir(input_folder) if f.endswith('.wav')]\n",
    "\n",
    "for wav_file in wav_files:\n",
    "    # Load the WAV file\n",
    "    wav_path = os.path.join(input_folder, wav_file)\n",
    "    audio = AudioSegment.from_wav(wav_path)\n",
    "\n",
    "    # Define the output MP3 file path\n",
    "    mp3_file = os.path.splitext(wav_file)[0] + '.mp3'\n",
    "    mp3_path = os.path.join(output_folder, mp3_file)\n",
    "\n",
    "    # Export the audio to MP3 format\n",
    "    audio.export(mp3_path, format='mp3')\n",
    "\n",
    "    print(f\"Converted {wav_file} to MP3 format: {mp3_file}\")\n"
   ]
  }
 ],
 "metadata": {
  "kernelspec": {
   "display_name": "base",
   "language": "python",
   "name": "python3"
  },
  "language_info": {
   "codemirror_mode": {
    "name": "ipython",
    "version": 3
   },
   "file_extension": ".py",
   "mimetype": "text/x-python",
   "name": "python",
   "nbconvert_exporter": "python",
   "pygments_lexer": "ipython3",
   "version": "3.10.9"
  }
 },
 "nbformat": 4,
 "nbformat_minor": 2
}
