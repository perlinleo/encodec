{
 "cells": [
  {
   "cell_type": "code",
   "execution_count": 6,
   "metadata": {},
   "outputs": [
    {
     "name": "stdout",
     "output_type": "stream",
     "text": [
      "voice_german_pure_cut_48khz.wav\n",
      "es_speak_noize_cut_24kHz.wav\n",
      "song_hip_hop_cut_24kHz.wav\n",
      "rain_traffic_sound_cut_24kHz.wav\n",
      "voice_german_pure_cut_24kHz.wav\n",
      "ar_speak_radio_quran_long_8khz.wav\n",
      "song_hip_hop_cut_48khz.wav\n",
      "rain_traffic_sound_cut_48khz.wav\n",
      "es_speak_noize_cut_48khz.wav\n",
      "es_speak_noize_cut_24kHz.wav\n",
      "voice_german_pure_cut_48khz.wav\n",
      "ar_speak_radio_quran_long_8khz.wav\n",
      "song_hip_hop_cut_48khz.wav\n",
      "rain_traffic_sound_cut_48khz.wav\n",
      "es_speak_noize_cut_48khz.wav\n",
      "voice_german_pure_cut_24kHz.wav\n",
      "song_hip_hop_cut_24kHz.wav\n",
      "rain_traffic_sound_cut_24kHz.wav\n",
      "song_hip_hop_cut_24kHz.wav\n",
      "es_speak_noize_cut_48khz.wav\n",
      "voice_german_pure_cut_24kHz.wav\n",
      "rain_traffic_sound_cut_24kHz.wav\n",
      "ar_speak_radio_quran_long_8khz.wav\n",
      "song_hip_hop_cut_48khz.wav\n",
      "es_speak_noize_cut_24kHz.wav\n",
      "voice_german_pure_cut_48khz.wav\n",
      "rain_traffic_sound_cut_48khz.wav\n",
      "voice_german_pure_cut_24kHz.wav\n",
      "rain_traffic_sound_cut_48khz.wav\n"
     ]
    },
    {
     "name": "stderr",
     "output_type": "stream",
     "text": [
      "/var/folders/qh/_d10460j4bdb34vp1wr_q1d40000gn/T/ipykernel_4289/389098211.py:15: RuntimeWarning: divide by zero encountered in double_scalars\n",
      "  snr = 10 * np.log10(signal_power / noise_power)\n"
     ]
    },
    {
     "ename": "ValueError",
     "evalue": "operands could not be broadcast together with shapes (336000,) (168000,) ",
     "output_type": "error",
     "traceback": [
      "\u001b[0;31m---------------------------------------------------------------------------\u001b[0m",
      "\u001b[0;31mValueError\u001b[0m                                Traceback (most recent call last)",
      "Cell \u001b[0;32mIn[6], line 35\u001b[0m\n\u001b[1;32m     32\u001b[0m             ref_audio, _ \u001b[38;5;241m=\u001b[39m sf\u001b[38;5;241m.\u001b[39mread(source_path)\n\u001b[1;32m     33\u001b[0m             deg_audio, _ \u001b[38;5;241m=\u001b[39m sf\u001b[38;5;241m.\u001b[39mread(dest_path)\n\u001b[0;32m---> 35\u001b[0m             snr \u001b[38;5;241m=\u001b[39m \u001b[43mcalculate_snr\u001b[49m\u001b[43m(\u001b[49m\u001b[43mref_audio\u001b[49m\u001b[43m,\u001b[49m\u001b[43m \u001b[49m\u001b[43mdeg_audio\u001b[49m\u001b[43m)\u001b[49m\n\u001b[1;32m     36\u001b[0m             results\u001b[38;5;241m.\u001b[39mappend([dest_file, snr])\n\u001b[1;32m     38\u001b[0m \u001b[38;5;66;03m# Display SNR results\u001b[39;00m\n",
      "Cell \u001b[0;32mIn[6], line 14\u001b[0m, in \u001b[0;36mcalculate_snr\u001b[0;34m(ref_audio, deg_audio)\u001b[0m\n\u001b[1;32m     12\u001b[0m \u001b[38;5;28;01mdef\u001b[39;00m \u001b[38;5;21mcalculate_snr\u001b[39m(ref_audio, deg_audio):\n\u001b[1;32m     13\u001b[0m     signal_power \u001b[38;5;241m=\u001b[39m np\u001b[38;5;241m.\u001b[39msum(ref_audio \u001b[38;5;241m*\u001b[39m\u001b[38;5;241m*\u001b[39m \u001b[38;5;241m2\u001b[39m)\n\u001b[0;32m---> 14\u001b[0m     noise_power \u001b[38;5;241m=\u001b[39m np\u001b[38;5;241m.\u001b[39msum((\u001b[43mref_audio\u001b[49m\u001b[43m \u001b[49m\u001b[38;5;241;43m-\u001b[39;49m\u001b[43m \u001b[49m\u001b[43mdeg_audio\u001b[49m) \u001b[38;5;241m*\u001b[39m\u001b[38;5;241m*\u001b[39m \u001b[38;5;241m2\u001b[39m)\n\u001b[1;32m     15\u001b[0m     snr \u001b[38;5;241m=\u001b[39m \u001b[38;5;241m10\u001b[39m \u001b[38;5;241m*\u001b[39m np\u001b[38;5;241m.\u001b[39mlog10(signal_power \u001b[38;5;241m/\u001b[39m noise_power)\n\u001b[1;32m     16\u001b[0m     \u001b[38;5;28;01mreturn\u001b[39;00m snr\n",
      "\u001b[0;31mValueError\u001b[0m: operands could not be broadcast together with shapes (336000,) (168000,) "
     ]
    }
   ],
   "source": [
    "import os\n",
    "import numpy as np\n",
    "import soundfile as sf\n",
    "\n",
    "source_folder = 'test'\n",
    "dest_folders = ['mp3', 'opus', 'flac', 'ecdc_wav']\n",
    "\n",
    "source_files = [file for file in os.listdir(source_folder) if file.endswith('.wav')]\n",
    "dest_files = {folder: [file for file in os.listdir(folder) if file.endswith(('.mp3', '.opus', '.flac', '.wav'))] for folder in dest_folders}\n",
    "\n",
    "# Function to calculate SNR\n",
    "def calculate_snr(ref_audio, deg_audio):\n",
    "    signal_power = np.sum(ref_audio ** 2)\n",
    "    noise_power = np.sum((ref_audio - deg_audio) ** 2)\n",
    "    snr = 10 * np.log10(signal_power / noise_power)\n",
    "    return snr\n",
    "\n",
    "results = []\n",
    "\n",
    "# SNR calculation for each destination folder\n",
    "for dest_folder in dest_folders:\n",
    "    dest_files_list = dest_files[dest_folder]\n",
    "    for dest_file in dest_files_list:\n",
    "        source_file = dest_file.replace('.mp3', '.wav').replace('.opus', '.wav').replace('.flac', '.wav')\n",
    "        print(source_file)\n",
    "        if source_file in source_files:\n",
    "            if (source_file == \"ar_speak_radio_quran_long_8khz.wav\") | (source_file == \"song_hip_hop_cut_48khz.wav\") | (source_file == \"voice_german_pure_cut_48khz.wav\") | (source_file == \"es_speak_noize_cut_48khz.wav\") : \n",
    "                continue\n",
    "            source_path = os.path.join(source_folder, source_file)\n",
    "            dest_path = os.path.join(dest_folder, dest_file)\n",
    "\n",
    "            ref_audio, _ = sf.read(source_path)\n",
    "            deg_audio, _ = sf.read(dest_path)\n",
    "\n",
    "            snr = calculate_snr(ref_audio, deg_audio)\n",
    "            results.append([dest_file, snr])\n",
    "\n",
    "# Display SNR results\n",
    "for row in results:\n",
    "    print(f\"SNR for {row[0]}: {row[1]} dB\")\n"
   ]
  },
  {
   "cell_type": "code",
   "execution_count": null,
   "metadata": {},
   "outputs": [],
   "source": []
  }
 ],
 "metadata": {
  "kernelspec": {
   "display_name": "base",
   "language": "python",
   "name": "python3"
  },
  "language_info": {
   "codemirror_mode": {
    "name": "ipython",
    "version": 3
   },
   "file_extension": ".py",
   "mimetype": "text/x-python",
   "name": "python",
   "nbconvert_exporter": "python",
   "pygments_lexer": "ipython3",
   "version": "3.10.9"
  }
 },
 "nbformat": 4,
 "nbformat_minor": 2
}
