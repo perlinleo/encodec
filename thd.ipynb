{
 "cells": [
  {
   "cell_type": "code",
   "execution_count": 6,
   "metadata": {},
   "outputs": [
    {
     "name": "stdout",
     "output_type": "stream",
     "text": [
      "THD results saved as 'thd_results.csv'\n"
     ]
    }
   ],
   "source": [
    "import os\n",
    "import numpy as np\n",
    "import soundfile as sf\n",
    "from scipy.fft import fft\n",
    "from tabulate import tabulate\n",
    "\n",
    "source_folder = 'test'\n",
    "dest_folders = ['mp3', 'opus', 'flac', 'ecdc_wav']\n",
    "\n",
    "source_files = [file for file in os.listdir(source_folder) if file.endswith('.wav')]\n",
    "dest_files = {folder: [file for file in os.listdir(folder) if file.endswith(('.mp3', '.opus', '.flac', '.wav'))] for folder in dest_folders}\n",
    "\n",
    "# Function to calculate Total Harmonic Distortion (THD)\n",
    "# Function to calculate Total Harmonic Distortion (THD) within the range of 0 to 1\n",
    "def calculate_thd(signal):\n",
    "    fft_signal = fft(signal)\n",
    "    fundamental_freq = abs(fft_signal[1])\n",
    "    harmonic_freq = abs(fft_signal[2:]).sum()\n",
    "    \n",
    "    # Calculate THD within the range of 0 to 1\n",
    "    thd = harmonic_freq / fundamental_freq\n",
    "    thd_normalized = 1 - (thd / (1 + thd))  # Normalize THD within the range 0 to 1\n",
    "    \n",
    "    return thd_normalized\n",
    "\n",
    "\n",
    "results = []\n",
    "\n",
    "results = []\n",
    "for dest_folder in dest_folders:\n",
    "    dest_files_list = dest_files[dest_folder]\n",
    "    for dest_file in dest_files_list:\n",
    "        source_file = dest_file.replace('.mp3', '.wav').replace('.opus', '.wav').replace('.flac', '.wav')\n",
    "        if source_file in source_files:\n",
    "            source_path = os.path.join(source_folder, source_file)\n",
    "            dest_path = os.path.join(dest_folder, dest_file)\n",
    "\n",
    "            ref_audio, _ = sf.read(source_path)\n",
    "            deg_audio, _ = sf.read(dest_path)\n",
    "\n",
    "            thd = calculate_thd(ref_audio)\n",
    "            results.append([dest_file, thd])\n",
    "\n",
    "# Create table headers\n",
    "headers = [\"File\", \"THD\"]\n",
    "\n",
    "# Save THD results to a CSV file\n",
    "table = tabulate(results, headers=headers, tablefmt=\"plain\")\n",
    "with open('thd_results.csv', 'w') as file:\n",
    "    file.write(table)\n",
    "\n",
    "print(\"THD results saved as 'thd_results.csv'\")\n"
   ]
  }
 ],
 "metadata": {
  "kernelspec": {
   "display_name": "base",
   "language": "python",
   "name": "python3"
  },
  "language_info": {
   "codemirror_mode": {
    "name": "ipython",
    "version": 3
   },
   "file_extension": ".py",
   "mimetype": "text/x-python",
   "name": "python",
   "nbconvert_exporter": "python",
   "pygments_lexer": "ipython3",
   "version": "3.10.9"
  }
 },
 "nbformat": 4,
 "nbformat_minor": 2
}
